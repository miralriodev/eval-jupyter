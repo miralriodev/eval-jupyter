{
 "cells": [
  {
   "cell_type": "code",
   "execution_count": 1,
   "id": "89dfad20-c2e3-4b05-b580-5e6b602e89bf",
   "metadata": {},
   "outputs": [],
   "source": [
    "import pandas as pd"
   ]
  },
  {
   "cell_type": "code",
   "execution_count": 2,
   "id": "d1c386bc-36f0-476f-a58a-83dbb9e180a2",
   "metadata": {},
   "outputs": [],
   "source": [
    "columnas = [\n",
    "    \"venta_id\",\n",
    "    \"fecha_alquiler\",\n",
    "    \"cliente_id\",\n",
    "    \"vehiculo_id\",\n",
    "    \"sucursal_id\",\n",
    "    \"costo_alquiler\",\n",
    "    \"gasto_operativo\",\n",
    "    \"metodo_pago\",\n",
    "    \"descuento\",\n",
    "    \"kilometros_recorridos\"\n",
    "]"
   ]
  },
  {
   "cell_type": "code",
   "execution_count": 3,
   "id": "d102e14a-7401-4a4d-b876-2cbb9fdd9548",
   "metadata": {},
   "outputs": [],
   "source": [
    "df = pd.read_csv(r\"C:\\Users\\miral\\Downloads\\rent4you.csv\", header=None, names=columnas)"
   ]
  },
  {
   "cell_type": "code",
   "execution_count": 4,
   "id": "8184ba14-2ec7-4374-994a-99e05b27ac20",
   "metadata": {},
   "outputs": [
    {
     "data": {
      "text/html": [
       "<div>\n",
       "<style scoped>\n",
       "    .dataframe tbody tr th:only-of-type {\n",
       "        vertical-align: middle;\n",
       "    }\n",
       "\n",
       "    .dataframe tbody tr th {\n",
       "        vertical-align: top;\n",
       "    }\n",
       "\n",
       "    .dataframe thead th {\n",
       "        text-align: right;\n",
       "    }\n",
       "</style>\n",
       "<table border=\"1\" class=\"dataframe\">\n",
       "  <thead>\n",
       "    <tr style=\"text-align: right;\">\n",
       "      <th></th>\n",
       "      <th>venta_id</th>\n",
       "      <th>fecha_alquiler</th>\n",
       "      <th>cliente_id</th>\n",
       "      <th>vehiculo_id</th>\n",
       "      <th>sucursal_id</th>\n",
       "      <th>costo_alquiler</th>\n",
       "      <th>gasto_operativo</th>\n",
       "      <th>metodo_pago</th>\n",
       "      <th>descuento</th>\n",
       "      <th>kilometros_recorridos</th>\n",
       "    </tr>\n",
       "  </thead>\n",
       "  <tbody>\n",
       "    <tr>\n",
       "      <th>0</th>\n",
       "      <td>venta_id</td>\n",
       "      <td>fecha_alquiler</td>\n",
       "      <td>cliente_id</td>\n",
       "      <td>vehiculo_id</td>\n",
       "      <td>sucursal_id</td>\n",
       "      <td>costo_alquiler</td>\n",
       "      <td>gasto_operativo</td>\n",
       "      <td>metodo_pago</td>\n",
       "      <td>descuento</td>\n",
       "      <td>kilometros_recorridos</td>\n",
       "    </tr>\n",
       "    <tr>\n",
       "      <th>1</th>\n",
       "      <td>1</td>\n",
       "      <td>2024-03-29</td>\n",
       "      <td>1849</td>\n",
       "      <td>505</td>\n",
       "      <td>7</td>\n",
       "      <td>1757.88</td>\n",
       "      <td>568.68</td>\n",
       "      <td>cash</td>\n",
       "      <td>85.23</td>\n",
       "      <td>552</td>\n",
       "    </tr>\n",
       "    <tr>\n",
       "      <th>2</th>\n",
       "      <td>2</td>\n",
       "      <td>2024-12-26</td>\n",
       "      <td>3905</td>\n",
       "      <td>526</td>\n",
       "      <td>4</td>\n",
       "      <td>801.13</td>\n",
       "      <td>58.71</td>\n",
       "      <td>cash</td>\n",
       "      <td>36.19</td>\n",
       "      <td>691</td>\n",
       "    </tr>\n",
       "    <tr>\n",
       "      <th>3</th>\n",
       "      <td>3</td>\n",
       "      <td>2024-03-18</td>\n",
       "      <td>5721</td>\n",
       "      <td>430</td>\n",
       "      <td>3</td>\n",
       "      <td>869.62</td>\n",
       "      <td>261.37</td>\n",
       "      <td>Bitcoin</td>\n",
       "      <td>90.87</td>\n",
       "      <td>652</td>\n",
       "    </tr>\n",
       "    <tr>\n",
       "      <th>4</th>\n",
       "      <td>4</td>\n",
       "      <td>2023-11-16</td>\n",
       "      <td>1667</td>\n",
       "      <td>578</td>\n",
       "      <td>9</td>\n",
       "      <td>1360.7</td>\n",
       "      <td>128.88</td>\n",
       "      <td>cash</td>\n",
       "      <td>130.23</td>\n",
       "      <td>198</td>\n",
       "    </tr>\n",
       "  </tbody>\n",
       "</table>\n",
       "</div>"
      ],
      "text/plain": [
       "   venta_id  fecha_alquiler  cliente_id  vehiculo_id  sucursal_id  \\\n",
       "0  venta_id  fecha_alquiler  cliente_id  vehiculo_id  sucursal_id   \n",
       "1         1      2024-03-29        1849          505            7   \n",
       "2         2      2024-12-26        3905          526            4   \n",
       "3         3      2024-03-18        5721          430            3   \n",
       "4         4      2023-11-16        1667          578            9   \n",
       "\n",
       "   costo_alquiler  gasto_operativo  metodo_pago  descuento  \\\n",
       "0  costo_alquiler  gasto_operativo  metodo_pago  descuento   \n",
       "1         1757.88           568.68         cash      85.23   \n",
       "2          801.13            58.71         cash      36.19   \n",
       "3          869.62           261.37      Bitcoin      90.87   \n",
       "4          1360.7           128.88         cash     130.23   \n",
       "\n",
       "   kilometros_recorridos  \n",
       "0  kilometros_recorridos  \n",
       "1                    552  \n",
       "2                    691  \n",
       "3                    652  \n",
       "4                    198  "
      ]
     },
     "execution_count": 4,
     "metadata": {},
     "output_type": "execute_result"
    }
   ],
   "source": [
    "df.head()"
   ]
  },
  {
   "cell_type": "code",
   "execution_count": 5,
   "id": "d77cda4c-9f35-4eeb-96fc-f9da3e2e8a86",
   "metadata": {},
   "outputs": [
    {
     "name": "stdout",
     "output_type": "stream",
     "text": [
      "<class 'pandas.core.frame.DataFrame'>\n",
      "RangeIndex: 1001 entries, 0 to 1000\n",
      "Data columns (total 10 columns):\n",
      " #   Column                 Non-Null Count  Dtype \n",
      "---  ------                 --------------  ----- \n",
      " 0   venta_id               1001 non-null   object\n",
      " 1   fecha_alquiler         1001 non-null   object\n",
      " 2   cliente_id             1001 non-null   object\n",
      " 3   vehiculo_id            1001 non-null   object\n",
      " 4   sucursal_id            1001 non-null   object\n",
      " 5   costo_alquiler         1001 non-null   object\n",
      " 6   gasto_operativo        1001 non-null   object\n",
      " 7   metodo_pago            1001 non-null   object\n",
      " 8   descuento              1001 non-null   object\n",
      " 9   kilometros_recorridos  1001 non-null   object\n",
      "dtypes: object(10)\n",
      "memory usage: 78.3+ KB\n"
     ]
    }
   ],
   "source": [
    "df.info()"
   ]
  },
  {
   "cell_type": "code",
   "execution_count": 6,
   "id": "7833cd71-146f-46d2-b22a-af0e10878102",
   "metadata": {},
   "outputs": [
    {
     "data": {
      "text/html": [
       "<div>\n",
       "<style scoped>\n",
       "    .dataframe tbody tr th:only-of-type {\n",
       "        vertical-align: middle;\n",
       "    }\n",
       "\n",
       "    .dataframe tbody tr th {\n",
       "        vertical-align: top;\n",
       "    }\n",
       "\n",
       "    .dataframe thead th {\n",
       "        text-align: right;\n",
       "    }\n",
       "</style>\n",
       "<table border=\"1\" class=\"dataframe\">\n",
       "  <thead>\n",
       "    <tr style=\"text-align: right;\">\n",
       "      <th></th>\n",
       "      <th>venta_id</th>\n",
       "      <th>fecha_alquiler</th>\n",
       "      <th>cliente_id</th>\n",
       "      <th>vehiculo_id</th>\n",
       "      <th>sucursal_id</th>\n",
       "      <th>costo_alquiler</th>\n",
       "      <th>gasto_operativo</th>\n",
       "      <th>metodo_pago</th>\n",
       "      <th>descuento</th>\n",
       "      <th>kilometros_recorridos</th>\n",
       "    </tr>\n",
       "  </thead>\n",
       "  <tbody>\n",
       "    <tr>\n",
       "      <th>count</th>\n",
       "      <td>1001</td>\n",
       "      <td>1001</td>\n",
       "      <td>1001</td>\n",
       "      <td>1001</td>\n",
       "      <td>1001</td>\n",
       "      <td>1001</td>\n",
       "      <td>1001</td>\n",
       "      <td>1001</td>\n",
       "      <td>1001</td>\n",
       "      <td>1001</td>\n",
       "    </tr>\n",
       "    <tr>\n",
       "      <th>unique</th>\n",
       "      <td>1001</td>\n",
       "      <td>557</td>\n",
       "      <td>949</td>\n",
       "      <td>564</td>\n",
       "      <td>11</td>\n",
       "      <td>999</td>\n",
       "      <td>995</td>\n",
       "      <td>11</td>\n",
       "      <td>969</td>\n",
       "      <td>577</td>\n",
       "    </tr>\n",
       "    <tr>\n",
       "      <th>top</th>\n",
       "      <td>venta_id</td>\n",
       "      <td>2024-03-18</td>\n",
       "      <td>7560</td>\n",
       "      <td>878</td>\n",
       "      <td>5</td>\n",
       "      <td>373.57</td>\n",
       "      <td>653.14</td>\n",
       "      <td>cash</td>\n",
       "      <td>2.91</td>\n",
       "      <td>274</td>\n",
       "    </tr>\n",
       "    <tr>\n",
       "      <th>freq</th>\n",
       "      <td>1</td>\n",
       "      <td>7</td>\n",
       "      <td>3</td>\n",
       "      <td>6</td>\n",
       "      <td>119</td>\n",
       "      <td>2</td>\n",
       "      <td>2</td>\n",
       "      <td>115</td>\n",
       "      <td>2</td>\n",
       "      <td>5</td>\n",
       "    </tr>\n",
       "  </tbody>\n",
       "</table>\n",
       "</div>"
      ],
      "text/plain": [
       "        venta_id fecha_alquiler cliente_id vehiculo_id sucursal_id  \\\n",
       "count       1001           1001       1001        1001        1001   \n",
       "unique      1001            557        949         564          11   \n",
       "top     venta_id     2024-03-18       7560         878           5   \n",
       "freq           1              7          3           6         119   \n",
       "\n",
       "       costo_alquiler gasto_operativo metodo_pago descuento  \\\n",
       "count            1001            1001        1001      1001   \n",
       "unique            999             995          11       969   \n",
       "top            373.57          653.14        cash      2.91   \n",
       "freq                2               2         115         2   \n",
       "\n",
       "       kilometros_recorridos  \n",
       "count                   1001  \n",
       "unique                   577  \n",
       "top                      274  \n",
       "freq                       5  "
      ]
     },
     "execution_count": 6,
     "metadata": {},
     "output_type": "execute_result"
    }
   ],
   "source": [
    "df.describe()"
   ]
  },
  {
   "cell_type": "code",
   "execution_count": 7,
   "id": "04ecc093-fbc4-43b0-940d-091026c00e77",
   "metadata": {},
   "outputs": [
    {
     "name": "stdout",
     "output_type": "stream",
     "text": [
      "Valores nulos por columna:\n",
      "venta_id                 0\n",
      "fecha_alquiler           0\n",
      "cliente_id               0\n",
      "vehiculo_id              0\n",
      "sucursal_id              0\n",
      "costo_alquiler           0\n",
      "gasto_operativo          0\n",
      "metodo_pago              0\n",
      "descuento                0\n",
      "kilometros_recorridos    0\n",
      "dtype: int64\n"
     ]
    }
   ],
   "source": [
    "# Revisar si hay valores nulos\n",
    "print(\"Valores nulos por columna:\")\n",
    "print(df.isnull().sum())"
   ]
  },
  {
   "cell_type": "code",
   "execution_count": 8,
   "id": "94e13025-7d18-4921-b73d-bf4c9ebcb774",
   "metadata": {},
   "outputs": [
    {
     "name": "stdout",
     "output_type": "stream",
     "text": [
      "\n",
      "Duplicados:\n",
      "0\n"
     ]
    }
   ],
   "source": [
    "# Revisar si hay valores nulos\n",
    "print(\"\\nDuplicados:\")\n",
    "print(df.duplicated().sum())"
   ]
  },
  {
   "cell_type": "code",
   "execution_count": 9,
   "id": "492b37fe-6ca0-49ab-991f-64489e132cde",
   "metadata": {},
   "outputs": [],
   "source": [
    "# Asegurar que la fecha esté en formato datetime\n",
    "df[\"fecha_alquiler\"] = pd.to_datetime(df[\"fecha_alquiler\"], format=\"%Y-%m-%d\", errors=\"coerce\")"
   ]
  },
  {
   "cell_type": "code",
   "execution_count": 10,
   "id": "213d705b-b48a-48c6-a462-5eb6061ff3b6",
   "metadata": {},
   "outputs": [],
   "source": [
    "# Convertir campos monetarios a float\n",
    "df[\"costo_alquiler\"] = pd.to_numeric(df[\"costo_alquiler\"], errors=\"coerce\")\n",
    "df[\"gasto_operativo\"] = pd.to_numeric(df[\"gasto_operativo\"], errors=\"coerce\")\n",
    "df[\"descuento\"] = pd.to_numeric(df[\"descuento\"], errors=\"coerce\")\n",
    "df[\"kilometros_recorridos\"] = pd.to_numeric(df[\"kilometros_recorridos\"], errors=\"coerce\")"
   ]
  },
  {
   "cell_type": "code",
   "execution_count": 11,
   "id": "e01095ad-b453-4dc8-a3f3-b6d7ed69b116",
   "metadata": {},
   "outputs": [],
   "source": [
    "# Convertir IDs a enteros\n",
    "df[\"venta_id\"] = pd.to_numeric(df[\"venta_id\"], errors=\"coerce\").astype(\"Int64\")\n",
    "df[\"cliente_id\"] = pd.to_numeric(df[\"cliente_id\"], errors=\"coerce\").astype(\"Int64\")\n",
    "df[\"vehiculo_id\"] = pd.to_numeric(df[\"vehiculo_id\"], errors=\"coerce\").astype(\"Int64\")\n",
    "df[\"sucursal_id\"] = pd.to_numeric(df[\"sucursal_id\"], errors=\"coerce\").astype(\"Int64\")"
   ]
  },
  {
   "cell_type": "code",
   "execution_count": 12,
   "id": "d8423b25-c67d-4068-ac0a-9c37911356c9",
   "metadata": {},
   "outputs": [],
   "source": [
    "# Convertir metodo_pago a categoría (para ahorro de memoria y análisis eficiente)\n",
    "df[\"metodo_pago\"] = df[\"metodo_pago\"].astype(\"category\")"
   ]
  },
  {
   "cell_type": "code",
   "execution_count": 13,
   "id": "96a618f7-5a05-408a-907d-c5c4416f068c",
   "metadata": {},
   "outputs": [
    {
     "data": {
      "text/html": [
       "<div>\n",
       "<style scoped>\n",
       "    .dataframe tbody tr th:only-of-type {\n",
       "        vertical-align: middle;\n",
       "    }\n",
       "\n",
       "    .dataframe tbody tr th {\n",
       "        vertical-align: top;\n",
       "    }\n",
       "\n",
       "    .dataframe thead th {\n",
       "        text-align: right;\n",
       "    }\n",
       "</style>\n",
       "<table border=\"1\" class=\"dataframe\">\n",
       "  <thead>\n",
       "    <tr style=\"text-align: right;\">\n",
       "      <th></th>\n",
       "      <th>venta_id</th>\n",
       "      <th>fecha_alquiler</th>\n",
       "      <th>cliente_id</th>\n",
       "      <th>vehiculo_id</th>\n",
       "      <th>sucursal_id</th>\n",
       "      <th>costo_alquiler</th>\n",
       "      <th>gasto_operativo</th>\n",
       "      <th>metodo_pago</th>\n",
       "      <th>descuento</th>\n",
       "      <th>kilometros_recorridos</th>\n",
       "    </tr>\n",
       "  </thead>\n",
       "  <tbody>\n",
       "  </tbody>\n",
       "</table>\n",
       "</div>"
      ],
      "text/plain": [
       "Empty DataFrame\n",
       "Columns: [venta_id, fecha_alquiler, cliente_id, vehiculo_id, sucursal_id, costo_alquiler, gasto_operativo, metodo_pago, descuento, kilometros_recorridos]\n",
       "Index: []"
      ]
     },
     "execution_count": 13,
     "metadata": {},
     "output_type": "execute_result"
    }
   ],
   "source": [
    "# Detectar alquileres con valores fuera de lo esperado\n",
    "df[df[\"costo_alquiler\"] > 5000]"
   ]
  },
  {
   "cell_type": "code",
   "execution_count": 14,
   "id": "90d36ff7-5436-4530-a3a3-8110e9891076",
   "metadata": {},
   "outputs": [],
   "source": [
    "# Eliminar registros con km recorridos negativos o exagerados\n",
    "df = df[(df[\"kilometros_recorridos\"] >= 0) & (df[\"kilometros_recorridos\"] <= 1000)]"
   ]
  },
  {
   "cell_type": "code",
   "execution_count": 15,
   "id": "6d9ede97-11e5-4347-8057-98fb906ed353",
   "metadata": {},
   "outputs": [],
   "source": [
    "# Precio neto luego del descuento\n",
    "df[\"total_neto\"] = df[\"costo_alquiler\"] - df[\"descuento\"]"
   ]
  },
  {
   "cell_type": "code",
   "execution_count": 16,
   "id": "c4681eb1-0f09-43c2-bd77-d22d022a5a92",
   "metadata": {},
   "outputs": [],
   "source": [
    "# Margen de ganancia bruta (estimación)\n",
    "df[\"margen_bruto\"] = df[\"total_neto\"] - df[\"gasto_operativo\"]"
   ]
  },
  {
   "cell_type": "code",
   "execution_count": 17,
   "id": "9e62567e-fcaa-4639-91ef-c7887be85ef4",
   "metadata": {},
   "outputs": [],
   "source": [
    "# Estandarizar errores tipográficos\n",
    "df[\"metodo_pago\"] = df[\"metodo_pago\"].replace({\n",
    "    \"tarjeeta\": \"tarjeta\",\n",
    "    \"efectivoo\": \"efectivo\"\n",
    "})"
   ]
  },
  {
   "cell_type": "code",
   "execution_count": 18,
   "id": "bd78aced-023a-435b-9ea1-800914ae722e",
   "metadata": {},
   "outputs": [],
   "source": [
    "# si descuento > costo_alquiler, eso no tiene sentido:\n",
    "df = df[df[\"descuento\"] <= df[\"costo_alquiler\"]]"
   ]
  },
  {
   "cell_type": "code",
   "execution_count": 19,
   "id": "d308f957-c663-427a-ba9a-36010ed0ba0d",
   "metadata": {},
   "outputs": [],
   "source": [
    "df[\"costo_alquiler\"] = df[\"costo_alquiler\"].round(2)\n",
    "df[\"descuento\"] = df[\"descuento\"].round(2)"
   ]
  },
  {
   "cell_type": "code",
   "execution_count": 20,
   "id": "50fd4e48-d462-486d-b16b-df7f65b58ba6",
   "metadata": {},
   "outputs": [],
   "source": [
    "df = df.sort_values(by=[\"fecha_alquiler\", \"sucursal_id\"])"
   ]
  },
  {
   "cell_type": "code",
   "execution_count": 21,
   "id": "1f866bc0-a484-46cc-a785-4ae72a9124d0",
   "metadata": {},
   "outputs": [],
   "source": [
    "# Eliminar filas con valores nulos\n",
    "df.dropna(inplace=True)\n",
    "\n",
    "# Eliminar filas duplicadas\n",
    "df.drop_duplicates(inplace=True)\n"
   ]
  },
  {
   "cell_type": "code",
   "execution_count": 47,
   "id": "90eebfdd-7a11-4a0b-b24c-8d6d569fc062",
   "metadata": {},
   "outputs": [
    {
     "name": "stdout",
     "output_type": "stream",
     "text": [
      "<class 'pandas.core.frame.DataFrame'>\n",
      "Index: 1000 entries, 952 to 73\n",
      "Data columns (total 12 columns):\n",
      " #   Column                 Non-Null Count  Dtype         \n",
      "---  ------                 --------------  -----         \n",
      " 0   venta_id               1000 non-null   Int64         \n",
      " 1   fecha_alquiler         1000 non-null   datetime64[ns]\n",
      " 2   cliente_id             1000 non-null   Int64         \n",
      " 3   vehiculo_id            1000 non-null   Int64         \n",
      " 4   sucursal_id            1000 non-null   Int64         \n",
      " 5   costo_alquiler         1000 non-null   float64       \n",
      " 6   gasto_operativo        1000 non-null   float64       \n",
      " 7   metodo_pago            1000 non-null   category      \n",
      " 8   descuento              1000 non-null   float64       \n",
      " 9   kilometros_recorridos  1000 non-null   float64       \n",
      " 10  total_neto             1000 non-null   float64       \n",
      " 11  margen_bruto           1000 non-null   float64       \n",
      "dtypes: Int64(4), category(1), datetime64[ns](1), float64(6)\n",
      "memory usage: 99.0 KB\n"
     ]
    },
    {
     "data": {
      "text/plain": [
       "np.int64(0)"
      ]
     },
     "execution_count": 47,
     "metadata": {},
     "output_type": "execute_result"
    }
   ],
   "source": [
    "# Verificar que todo esté limpio\n",
    "df.info()\n",
    "df.isnull().sum()\n",
    "df.duplicated().sum()\n"
   ]
  },
  {
   "cell_type": "code",
   "execution_count": 48,
   "id": "74b626d0-1d06-42eb-9065-72d2e90948d6",
   "metadata": {},
   "outputs": [
    {
     "data": {
      "text/plain": [
       "np.int64(0)"
      ]
     },
     "execution_count": 48,
     "metadata": {},
     "output_type": "execute_result"
    }
   ],
   "source": [
    "df.duplicated().sum()"
   ]
  },
  {
   "cell_type": "code",
   "execution_count": 49,
   "id": "875e4b68-e1c2-41d9-bb14-f9806f56eb5a",
   "metadata": {},
   "outputs": [
    {
     "data": {
      "text/plain": [
       "venta_id                          Int64\n",
       "fecha_alquiler           datetime64[ns]\n",
       "cliente_id                        Int64\n",
       "vehiculo_id                       Int64\n",
       "sucursal_id                       Int64\n",
       "costo_alquiler                  float64\n",
       "gasto_operativo                 float64\n",
       "metodo_pago                    category\n",
       "descuento                       float64\n",
       "kilometros_recorridos           float64\n",
       "total_neto                      float64\n",
       "margen_bruto                    float64\n",
       "dtype: object"
      ]
     },
     "execution_count": 49,
     "metadata": {},
     "output_type": "execute_result"
    }
   ],
   "source": [
    "df.dtypes"
   ]
  },
  {
   "cell_type": "code",
   "execution_count": 50,
   "id": "6eb845e5-8cd3-46b5-b259-4b77f2b140c9",
   "metadata": {},
   "outputs": [],
   "source": [
    "df.to_csv(\"rent4you_cl.csv\", index=False)"
   ]
  },
  {
   "cell_type": "code",
   "execution_count": null,
   "id": "a29830b5-c46a-40f0-86c6-44fc33ad29fc",
   "metadata": {},
   "outputs": [],
   "source": []
  },
  {
   "cell_type": "code",
   "execution_count": null,
   "id": "26127ba9-a306-4c1c-a14d-3b7b6ec0be8c",
   "metadata": {},
   "outputs": [],
   "source": []
  },
  {
   "cell_type": "code",
   "execution_count": null,
   "id": "856c75b2-e0b2-49cd-a7ec-27e072a2c961",
   "metadata": {},
   "outputs": [],
   "source": []
  },
  {
   "cell_type": "code",
   "execution_count": null,
   "id": "063d6161-93e8-478c-add2-f6641d8f08a0",
   "metadata": {},
   "outputs": [],
   "source": []
  },
  {
   "cell_type": "code",
   "execution_count": null,
   "id": "80f59511-d73c-42d0-be8a-3bd5e55abc1e",
   "metadata": {},
   "outputs": [],
   "source": []
  }
 ],
 "metadata": {
  "kernelspec": {
   "display_name": "Python 3 (ipykernel)",
   "language": "python",
   "name": "python3"
  },
  "language_info": {
   "codemirror_mode": {
    "name": "ipython",
    "version": 3
   },
   "file_extension": ".py",
   "mimetype": "text/x-python",
   "name": "python",
   "nbconvert_exporter": "python",
   "pygments_lexer": "ipython3",
   "version": "3.13.2"
  }
 },
 "nbformat": 4,
 "nbformat_minor": 5
}
